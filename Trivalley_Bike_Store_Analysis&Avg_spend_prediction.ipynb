{
  "nbformat": 4,
  "nbformat_minor": 0,
  "metadata": {
    "colab": {
      "provenance": []
    },
    "kernelspec": {
      "name": "python3",
      "display_name": "Python 3"
    },
    "language_info": {
      "name": "python"
    }
  },
  "cells": [
    {
      "cell_type": "code",
      "execution_count": null,
      "metadata": {
        "id": "xu7SUon_LwHf"
      },
      "outputs": [],
      "source": [
        "#Business case of this portfolio is to find the average spend of a customer in Trivalley and the other one is to predict whether the customer is gonna be a buyer or not.\n",
        "#this type of situations are common where there are two dependent variables(Target variables) to be predicted.\n",
        "#To work on this data, I'm following below steps:\n",
        "#Data Collection.\n",
        "#perfoeming EDA including both the predictors in data set.\n",
        "#performing EDA by only one prediictor at a time.\n",
        "#Building Visuals to understand the trends of the store.\n",
        "#data preparation==> avoiding noice variables , dealing missing values and outliers.\n",
        "#Statistical analysis.\n",
        "#creating and comparing models and picking up the better model.\n",
        "#Testing the model with various methods and finalyzing it."
      ]
    },
    {
      "cell_type": "code",
      "source": [
        "#reading the dataset location into url variable.\n",
        "url=\"https://raw.githubusercontent.com/lokidiffender/Trivalley-Bike-Store-Analysis-Prediction-Model/main/Trivalley%20Customer%20Spend%20and%20Buyer%20Flag%20Data.csv\"\n",
        "url"
      ],
      "metadata": {
        "id": "JGYdWY1rOXDW"
      },
      "execution_count": null,
      "outputs": []
    },
    {
      "cell_type": "code",
      "source": [
        "#importing pandas\n",
        "import pandas as pd\n",
        "\n",
        "#reading dataset into data variable\n",
        "data=pd.read_csv(url)"
      ],
      "metadata": {
        "id": "wajdGN-kQhPW"
      },
      "execution_count": null,
      "outputs": []
    },
    {
      "cell_type": "code",
      "source": [
        "#displaying the data\n",
        "data\n"
      ],
      "metadata": {
        "id": "6ANhal4EUsw-"
      },
      "execution_count": null,
      "outputs": []
    },
    {
      "cell_type": "code",
      "source": [
        "#checking size of data.\n",
        "data.shape\n"
      ],
      "metadata": {
        "id": "xAGxDyolU2VR"
      },
      "execution_count": null,
      "outputs": []
    },
    {
      "cell_type": "code",
      "source": [
        "#looking data and its features.\n",
        "data.info()\n"
      ],
      "metadata": {
        "id": "JffijEoFUSay"
      },
      "execution_count": null,
      "outputs": []
    },
    {
      "cell_type": "code",
      "source": [
        "# Displaying descriptive stats of the dataset\n",
        "data.describe()"
      ],
      "metadata": {
        "id": "T-bLMeUfUjfW"
      },
      "execution_count": null,
      "outputs": []
    },
    {
      "cell_type": "code",
      "source": [
        "# Installing dataprep package for data profiling\n",
        "!pip install dataprep"
      ],
      "metadata": {
        "id": "O-XSHYYLVV_X"
      },
      "execution_count": null,
      "outputs": []
    },
    {
      "cell_type": "code",
      "source": [
        "# Importing the dataprep package\n",
        "from dataprep.eda import create_report"
      ],
      "metadata": {
        "id": "ZvnF_kcuZTEo"
      },
      "execution_count": null,
      "outputs": []
    },
    {
      "cell_type": "code",
      "source": [
        "create_report(data).save(\"Trivalley_DataPrep_EDA_report.html\")"
      ],
      "metadata": {
        "id": "0CcfPT9zZbfy"
      },
      "execution_count": null,
      "outputs": []
    },
    {
      "cell_type": "code",
      "source": [
        "#Checking data columns\n",
        "data.columns"
      ],
      "metadata": {
        "id": "qK39A7ZXZr9H"
      },
      "execution_count": null,
      "outputs": []
    },
    {
      "cell_type": "code",
      "source": [
        "!pip install sketch"
      ],
      "metadata": {
        "id": "8KWaGnVjizR9"
      },
      "execution_count": null,
      "outputs": []
    },
    {
      "cell_type": "code",
      "source": [
        "!pip install rich"
      ],
      "metadata": {
        "id": "nptVC8nGkDze"
      },
      "execution_count": null,
      "outputs": []
    },
    {
      "cell_type": "code",
      "source": [
        "from rich import print\n",
        "import os\n",
        "os.environ[\"SKETCH_MAX_COLUMNS\"] = \"26\""
      ],
      "metadata": {
        "id": "WCvzvj-ukFG-"
      },
      "execution_count": null,
      "outputs": []
    },
    {
      "cell_type": "code",
      "source": [
        "import sketch\n",
        "\n",
        "data.sketch.howto(\"calculate the age based on current time zone with the birthdate.\")"
      ],
      "metadata": {
        "id": "0gK6rJYQjinO"
      },
      "execution_count": null,
      "outputs": []
    },
    {
      "cell_type": "code",
      "source": [
        " #deriving the age using birthdate of the customer as birth date doesn't help in predicting .\n",
        " # Import necessary libraries\n",
        "import pandas as pd\n",
        "from datetime import datetime\n",
        "\n",
        "# Convert BirthDate column to datetime format\n",
        "data['BirthDate'] = pd.to_datetime(data['BirthDate'])\n",
        "\n",
        "# Calculate age based on current time zone\n",
        "data['Age'] = (datetime.now() - data['BirthDate']).astype('<m8[Y]')\n",
        "\n",
        "# Print head of dataframe to check results\n",
        "print(data.head())\n"
      ],
      "metadata": {
        "id": "1lNgoI10kdpf"
      },
      "execution_count": null,
      "outputs": []
    },
    {
      "cell_type": "code",
      "source": [
        "data.columns"
      ],
      "metadata": {
        "id": "cIsjEdgqkrv_"
      },
      "execution_count": null,
      "outputs": []
    },
    {
      "cell_type": "code",
      "source": [
        "#Ignoring unwanted columns which are not impacting our predictors\n",
        "#Before that I'm creating two datasets each with having only one predictor or target varible\n",
        "data_avgspend=data[['CustomerID', 'AveMonthSpend','Title', 'FirstName',\n",
        "       'MiddleName', 'LastName', 'Suffix', 'AddressLine1', 'AddressLine2',\n",
        "       'City', 'StateProvinceName', 'CountryRegionName', 'PostalCode',\n",
        "       'PhoneNumber', 'BirthDate', 'Education', 'Occupation', 'Gender',\n",
        "       'MaritalStatus', 'HomeOwnerFlag', 'NumberCarsOwned',\n",
        "       'NumberChildrenAtHome', 'TotalChildren', 'YearlyIncome', 'Age']]\n",
        "data_buyer_ornot=[['CustomerID','BikeBuyer', 'Title', 'FirstName',\n",
        "       'MiddleName', 'LastName', 'Suffix', 'AddressLine1', 'AddressLine2',\n",
        "       'City', 'StateProvinceName', 'CountryRegionName', 'PostalCode',\n",
        "       'PhoneNumber', 'BirthDate', 'Education', 'Occupation', 'Gender',\n",
        "       'MaritalStatus', 'HomeOwnerFlag', 'NumberCarsOwned',\n",
        "       'NumberChildrenAtHome', 'TotalChildren', 'YearlyIncome','Age']]"
      ],
      "metadata": {
        "id": "DBWPTXeBdWO7"
      },
      "execution_count": null,
      "outputs": []
    },
    {
      "cell_type": "markdown",
      "source": [
        "# **Case-1: Regression with Average Monthly spend**"
      ],
      "metadata": {
        "id": "rpsTtsPrOemx"
      }
    },
    {
      "cell_type": "code",
      "source": [
        "#Using data_avgspend=data\n",
        "# Installing sweetviz package for EDA\n",
        "!pip install sweetviz"
      ],
      "metadata": {
        "id": "yJNaUOfVekKm"
      },
      "execution_count": null,
      "outputs": []
    },
    {
      "cell_type": "code",
      "source": [
        "# Importing the sv package\n",
        "import sweetviz as sv"
      ],
      "metadata": {
        "id": "_mJ8b_QUQdDE"
      },
      "execution_count": null,
      "outputs": []
    },
    {
      "cell_type": "code",
      "source": [
        "# Generating EDA report using sv package\n",
        "sv_report = sv.analyze(data_avgspend)\n",
        "\n",
        "# Converting the report to html format\n",
        "sv_report.show_html(\"Sweetviz_Report_Of_Trivalley_Sales.html\")"
      ],
      "metadata": {
        "id": "uDz4etN6TGEr"
      },
      "execution_count": null,
      "outputs": []
    },
    {
      "cell_type": "code",
      "source": [
        "!pip install -U --pre pycaret"
      ],
      "metadata": {
        "id": "pZe6Bl8-T5hH"
      },
      "execution_count": null,
      "outputs": []
    },
    {
      "cell_type": "code",
      "source": [
        "import numpy as np\n",
        "import pandas as pd"
      ],
      "metadata": {
        "id": "iFp9GP9VWkYJ"
      },
      "execution_count": null,
      "outputs": []
    },
    {
      "cell_type": "code",
      "source": [
        "data_avgspend.corr()"
      ],
      "metadata": {
        "id": "ZAGInHlic90G"
      },
      "execution_count": null,
      "outputs": []
    },
    {
      "cell_type": "code",
      "source": [
        "data_avgspend.info()"
      ],
      "metadata": {
        "id": "JVuFodOJW2nn"
      },
      "execution_count": null,
      "outputs": []
    },
    {
      "cell_type": "code",
      "source": [
        "data_avgspend.columns"
      ],
      "metadata": {
        "id": "-a5PJCoacKes"
      },
      "execution_count": null,
      "outputs": []
    },
    {
      "cell_type": "code",
      "source": [
        "#creating a target variable 'Y' with standard score of the dataset.\n",
        "y=\"AveMonthSpend\"\n",
        "# Setting the noise/redundant variables & variables with more than 20% missing data\n",
        "ignored_cols = ['CustomerID','Title', 'FirstName', 'MiddleName',\n",
        "       'LastName', 'Suffix', 'AddressLine1', 'AddressLine2','PostalCode', 'PhoneNumber',\n",
        "       'BirthDate']\n",
        "categorical_cols=['City',\n",
        "       'StateProvinceName', 'CountryRegionName',\n",
        "       'Education', 'Occupation', 'Gender', 'MaritalStatus']\n",
        "numerical_cols=['HomeOwnerFlag', 'NumberCarsOwned', 'NumberChildrenAtHome',\n",
        "       'TotalChildren', 'YearlyIncome', 'Age']\n"
      ],
      "metadata": {
        "id": "aLlVXuJYXi1k"
      },
      "execution_count": null,
      "outputs": []
    },
    {
      "cell_type": "code",
      "source": [
        "from pycaret.regression import *"
      ],
      "metadata": {
        "id": "DCffhwvNkFMj"
      },
      "execution_count": null,
      "outputs": []
    },
    {
      "cell_type": "code",
      "source": [
        "# Setting/configuring the pycaret ML experiment\n",
        "regression_setup = setup(data_avgspend,\n",
        "                         target = y,\n",
        "                         categorical_features = categorical_cols,\n",
        "                         numeric_features = numerical_cols,\n",
        "                         ignore_features = ignored_cols)"
      ],
      "metadata": {
        "id": "G7LOo4F6_vxl"
      },
      "execution_count": null,
      "outputs": []
    },
    {
      "cell_type": "code",
      "source": [
        "compare_models()"
      ],
      "metadata": {
        "id": "LeiCqUfMAIGJ"
      },
      "execution_count": null,
      "outputs": []
    },
    {
      "cell_type": "code",
      "source": [
        "#Building the model using the best algo from compare.models() function\n",
        "model=create_model('lightgbm')\n"
      ],
      "metadata": {
        "id": "lKiZIfg5FiRw"
      },
      "execution_count": null,
      "outputs": []
    },
    {
      "cell_type": "code",
      "source": [
        "# Using the algo to predict values(Average spend)\n",
        "predicted_avg_spendings=predict_model(model,data)"
      ],
      "metadata": {
        "id": "wUZuKAsvFjPO"
      },
      "execution_count": null,
      "outputs": []
    },
    {
      "cell_type": "code",
      "source": [
        "#downloading the avg spendings predicted\n",
        "predicted_avg_spendings.to_csv(\"Trivalley_Avg_Spend_Predicted_Scores.csv\")"
      ],
      "metadata": {
        "id": "-qgGhqErTQ2N"
      },
      "execution_count": null,
      "outputs": []
    },
    {
      "cell_type": "code",
      "source": [
        "#predicting Average spends for a client file\n",
        "client_data=pd.read_csv('https://raw.githubusercontent.com/nvamsimohan/DallasDSA/main/Trivalley%20Client%20data%20file.csv')\n",
        "client_data.info()\n",
        "# Convert BirthDate column to datetime format\n",
        "client_data['BirthDate'] = pd.to_datetime(client_data['BirthDate'])\n",
        "\n",
        "# Calculate age based on current time zone\n",
        "client_data['Age'] = (datetime.now() - client_data['BirthDate']).astype('<m8[Y]')\n",
        "\n",
        "# Print head of dataframe to check results\n",
        "print(client_data.head())"
      ],
      "metadata": {
        "id": "e-_Ae_9uYsw-"
      },
      "execution_count": null,
      "outputs": []
    },
    {
      "cell_type": "code",
      "source": [
        "client_predictions = predict_model(model, client_data)\n",
        "client_predictions.to_csv(\"Trivalley_Client_Average_spend_predicted_results.csv\")"
      ],
      "metadata": {
        "id": "TIZEU-yEZdji"
      },
      "execution_count": null,
      "outputs": []
    }
  ]
}